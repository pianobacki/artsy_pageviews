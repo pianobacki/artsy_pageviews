{
 "cells": [
  {
   "cell_type": "markdown",
   "metadata": {},
   "source": [
    "## Import packages"
   ]
  },
  {
   "cell_type": "code",
   "execution_count": 1,
   "metadata": {},
   "outputs": [],
   "source": [
    "import pandas as pd\n",
    "import numpy as np\n",
    "import seaborn as sns\n",
    "import matplotlib.pyplot as plt\n",
    "import plotly.graph_objects as go\n",
    "#import ptitprince as pt"
   ]
  },
  {
   "cell_type": "markdown",
   "metadata": {},
   "source": [
    "## read in the data"
   ]
  },
  {
   "cell_type": "code",
   "execution_count": 2,
   "metadata": {},
   "outputs": [],
   "source": [
    "df_u=pd.read_csv('data/users_artsy.csv')\n",
    "df_pv=pd.read_csv('data/pageviews_artsy.csv')\n"
   ]
  },
  {
   "cell_type": "markdown",
   "metadata": {},
   "source": [
    "## look into RAW data"
   ]
  },
  {
   "cell_type": "code",
   "execution_count": 18,
   "metadata": {},
   "outputs": [
    {
     "data": {
      "text/html": [
       "<div>\n",
       "<style scoped>\n",
       "    .dataframe tbody tr th:only-of-type {\n",
       "        vertical-align: middle;\n",
       "    }\n",
       "\n",
       "    .dataframe tbody tr th {\n",
       "        vertical-align: top;\n",
       "    }\n",
       "\n",
       "    .dataframe thead th {\n",
       "        text-align: right;\n",
       "    }\n",
       "</style>\n",
       "<table border=\"1\" class=\"dataframe\">\n",
       "  <thead>\n",
       "    <tr style=\"text-align: right;\">\n",
       "      <th></th>\n",
       "      <th>visitor_id</th>\n",
       "      <th>has_inquired</th>\n",
       "      <th>has_an_account</th>\n",
       "      <th>article_pageviews</th>\n",
       "      <th>artist_pageviews</th>\n",
       "      <th>artwork_pageviews</th>\n",
       "    </tr>\n",
       "  </thead>\n",
       "  <tbody>\n",
       "    <tr>\n",
       "      <th>0</th>\n",
       "      <td>0</td>\n",
       "      <td>False</td>\n",
       "      <td>False</td>\n",
       "      <td>0.0</td>\n",
       "      <td>0.0</td>\n",
       "      <td>1.0</td>\n",
       "    </tr>\n",
       "    <tr>\n",
       "      <th>1</th>\n",
       "      <td>1</td>\n",
       "      <td>True</td>\n",
       "      <td>False</td>\n",
       "      <td>0.0</td>\n",
       "      <td>0.0</td>\n",
       "      <td>1.0</td>\n",
       "    </tr>\n",
       "    <tr>\n",
       "      <th>2</th>\n",
       "      <td>2</td>\n",
       "      <td>True</td>\n",
       "      <td>True</td>\n",
       "      <td>0.0</td>\n",
       "      <td>0.0</td>\n",
       "      <td>1.0</td>\n",
       "    </tr>\n",
       "    <tr>\n",
       "      <th>3</th>\n",
       "      <td>3</td>\n",
       "      <td>False</td>\n",
       "      <td>False</td>\n",
       "      <td>0.0</td>\n",
       "      <td>1.0</td>\n",
       "      <td>0.0</td>\n",
       "    </tr>\n",
       "    <tr>\n",
       "      <th>4</th>\n",
       "      <td>4</td>\n",
       "      <td>False</td>\n",
       "      <td>False</td>\n",
       "      <td>0.0</td>\n",
       "      <td>0.0</td>\n",
       "      <td>1.0</td>\n",
       "    </tr>\n",
       "    <tr>\n",
       "      <th>5</th>\n",
       "      <td>5</td>\n",
       "      <td>False</td>\n",
       "      <td>False</td>\n",
       "      <td>0.0</td>\n",
       "      <td>0.0</td>\n",
       "      <td>0.0</td>\n",
       "    </tr>\n",
       "    <tr>\n",
       "      <th>6</th>\n",
       "      <td>6</td>\n",
       "      <td>False</td>\n",
       "      <td>False</td>\n",
       "      <td>0.0</td>\n",
       "      <td>0.0</td>\n",
       "      <td>1.0</td>\n",
       "    </tr>\n",
       "    <tr>\n",
       "      <th>7</th>\n",
       "      <td>7</td>\n",
       "      <td>True</td>\n",
       "      <td>True</td>\n",
       "      <td>0.0</td>\n",
       "      <td>1.0</td>\n",
       "      <td>0.0</td>\n",
       "    </tr>\n",
       "    <tr>\n",
       "      <th>8</th>\n",
       "      <td>8</td>\n",
       "      <td>False</td>\n",
       "      <td>False</td>\n",
       "      <td>0.0</td>\n",
       "      <td>1.0</td>\n",
       "      <td>0.0</td>\n",
       "    </tr>\n",
       "    <tr>\n",
       "      <th>9</th>\n",
       "      <td>9</td>\n",
       "      <td>True</td>\n",
       "      <td>True</td>\n",
       "      <td>0.0</td>\n",
       "      <td>0.0</td>\n",
       "      <td>1.0</td>\n",
       "    </tr>\n",
       "    <tr>\n",
       "      <th>10</th>\n",
       "      <td>10</td>\n",
       "      <td>True</td>\n",
       "      <td>True</td>\n",
       "      <td>0.0</td>\n",
       "      <td>0.0</td>\n",
       "      <td>1.0</td>\n",
       "    </tr>\n",
       "    <tr>\n",
       "      <th>11</th>\n",
       "      <td>11</td>\n",
       "      <td>False</td>\n",
       "      <td>False</td>\n",
       "      <td>1.0</td>\n",
       "      <td>0.0</td>\n",
       "      <td>0.0</td>\n",
       "    </tr>\n",
       "    <tr>\n",
       "      <th>12</th>\n",
       "      <td>12</td>\n",
       "      <td>True</td>\n",
       "      <td>True</td>\n",
       "      <td>0.0</td>\n",
       "      <td>1.0</td>\n",
       "      <td>0.0</td>\n",
       "    </tr>\n",
       "    <tr>\n",
       "      <th>13</th>\n",
       "      <td>13</td>\n",
       "      <td>True</td>\n",
       "      <td>False</td>\n",
       "      <td>0.0</td>\n",
       "      <td>1.0</td>\n",
       "      <td>0.0</td>\n",
       "    </tr>\n",
       "    <tr>\n",
       "      <th>14</th>\n",
       "      <td>14</td>\n",
       "      <td>False</td>\n",
       "      <td>False</td>\n",
       "      <td>0.0</td>\n",
       "      <td>0.0</td>\n",
       "      <td>0.0</td>\n",
       "    </tr>\n",
       "  </tbody>\n",
       "</table>\n",
       "</div>"
      ],
      "text/plain": [
       "    visitor_id  has_inquired  has_an_account  article_pageviews  \\\n",
       "0            0         False           False                0.0   \n",
       "1            1          True           False                0.0   \n",
       "2            2          True            True                0.0   \n",
       "3            3         False           False                0.0   \n",
       "4            4         False           False                0.0   \n",
       "5            5         False           False                0.0   \n",
       "6            6         False           False                0.0   \n",
       "7            7          True            True                0.0   \n",
       "8            8         False           False                0.0   \n",
       "9            9          True            True                0.0   \n",
       "10          10          True            True                0.0   \n",
       "11          11         False           False                1.0   \n",
       "12          12          True            True                0.0   \n",
       "13          13          True           False                0.0   \n",
       "14          14         False           False                0.0   \n",
       "\n",
       "    artist_pageviews  artwork_pageviews  \n",
       "0                0.0                1.0  \n",
       "1                0.0                1.0  \n",
       "2                0.0                1.0  \n",
       "3                1.0                0.0  \n",
       "4                0.0                1.0  \n",
       "5                0.0                0.0  \n",
       "6                0.0                1.0  \n",
       "7                1.0                0.0  \n",
       "8                1.0                0.0  \n",
       "9                0.0                1.0  \n",
       "10               0.0                1.0  \n",
       "11               0.0                0.0  \n",
       "12               1.0                0.0  \n",
       "13               1.0                0.0  \n",
       "14               0.0                0.0  "
      ]
     },
     "execution_count": 18,
     "metadata": {},
     "output_type": "execute_result"
    }
   ],
   "source": [
    "df_u.head(15)"
   ]
  },
  {
   "cell_type": "markdown",
   "metadata": {},
   "source": [
    "# Some notes about the culumns User (2.611 rows)\n",
    "\n",
    "- '**visitor_id**' = user ID of loged in user\n",
    "\n",
    "- '**has_inquired**' = whether the user has ever inquired on the site\n",
    "\n",
    "- '**has_an_account**' = whether the user has registered for an account\n",
    "\n",
    "- '**article_pageviews**' = how many times the user has viewed an article\n",
    "\n",
    "- '**artist_pageviews**' = how many times the user has viewed an artist\n",
    "\n",
    "- '**artwork_pageviews**' = how many times the user has viewed an artwork"
   ]
  },
  {
   "cell_type": "code",
   "execution_count": 19,
   "metadata": {},
   "outputs": [
    {
     "data": {
      "text/html": [
       "<div>\n",
       "<style scoped>\n",
       "    .dataframe tbody tr th:only-of-type {\n",
       "        vertical-align: middle;\n",
       "    }\n",
       "\n",
       "    .dataframe tbody tr th {\n",
       "        vertical-align: top;\n",
       "    }\n",
       "\n",
       "    .dataframe thead th {\n",
       "        text-align: right;\n",
       "    }\n",
       "</style>\n",
       "<table border=\"1\" class=\"dataframe\">\n",
       "  <thead>\n",
       "    <tr style=\"text-align: right;\">\n",
       "      <th></th>\n",
       "      <th>anonymous_id</th>\n",
       "      <th>logged_in</th>\n",
       "      <th>received_at</th>\n",
       "      <th>path</th>\n",
       "      <th>referrer</th>\n",
       "    </tr>\n",
       "  </thead>\n",
       "  <tbody>\n",
       "    <tr>\n",
       "      <th>0</th>\n",
       "      <td>ad31b961-d67f-497c-9def-9193d518863a</td>\n",
       "      <td>False</td>\n",
       "      <td>2017-03-12 18:23:28.241</td>\n",
       "      <td>/artist/anish-kapoor</td>\n",
       "      <td>http://m.facebook.com</td>\n",
       "    </tr>\n",
       "    <tr>\n",
       "      <th>1</th>\n",
       "      <td>dd14cc5c-f31a-4591-974d-1233346b1999</td>\n",
       "      <td>False</td>\n",
       "      <td>2017-03-20 20:36:32.177</td>\n",
       "      <td>/artwork/vernon-fisher-happy-family</td>\n",
       "      <td>NaN</td>\n",
       "    </tr>\n",
       "    <tr>\n",
       "      <th>2</th>\n",
       "      <td>9b459a76-aaa3-44cd-9f0e-af7fb9829b2c</td>\n",
       "      <td>False</td>\n",
       "      <td>2017-03-14 05:19:47.852</td>\n",
       "      <td>/article/francesca-gavin-10-new-artists-to-wat...</td>\n",
       "      <td>https://www.google.ge/</td>\n",
       "    </tr>\n",
       "    <tr>\n",
       "      <th>3</th>\n",
       "      <td>cb745df7-c90d-4339-9519-960081515b8c</td>\n",
       "      <td>False</td>\n",
       "      <td>2017-03-14 02:50:29.697</td>\n",
       "      <td>/article/artsy-editorial-8-female-surrealists-...</td>\n",
       "      <td>https://l.facebook.com/l.php?u=https%3A%2F%2Fw...</td>\n",
       "    </tr>\n",
       "    <tr>\n",
       "      <th>4</th>\n",
       "      <td>8b18968d-4e51-4e00-b60c-d80b1ad6a55c</td>\n",
       "      <td>False</td>\n",
       "      <td>2017-03-15 09:07:07.436</td>\n",
       "      <td>/article/artsy-editorial-why-these-7-artists-q...</td>\n",
       "      <td>https://www.facebook.com/</td>\n",
       "    </tr>\n",
       "    <tr>\n",
       "      <th>5</th>\n",
       "      <td>424776e9-5023-4c1a-950b-25da172990cb</td>\n",
       "      <td>False</td>\n",
       "      <td>2017-03-20 13:12:57.453</td>\n",
       "      <td>/gallery-partnerships</td>\n",
       "      <td>NaN</td>\n",
       "    </tr>\n",
       "    <tr>\n",
       "      <th>6</th>\n",
       "      <td>38a38aa5-00f6-46e8-8b16-0ca3d1890d2d</td>\n",
       "      <td>False</td>\n",
       "      <td>2017-03-25 01:28:37.583</td>\n",
       "      <td>/artwork/shepard-fairey-marcos-diagram</td>\n",
       "      <td>https://www.google.ca/</td>\n",
       "    </tr>\n",
       "    <tr>\n",
       "      <th>7</th>\n",
       "      <td>2f97afde-b7fb-4dc3-aaa8-79fdb100beb3</td>\n",
       "      <td>False</td>\n",
       "      <td>2017-03-23 09:12:22.880</td>\n",
       "      <td>/artist/kehinde-wiley</td>\n",
       "      <td>https://www.google.com.au/</td>\n",
       "    </tr>\n",
       "    <tr>\n",
       "      <th>8</th>\n",
       "      <td>b45d3f53-51b3-4a53-a170-af81ceb8c05b</td>\n",
       "      <td>False</td>\n",
       "      <td>2017-03-14 15:52:14.650</td>\n",
       "      <td>/artwork/mario-rossi-plaza-italia</td>\n",
       "      <td>https://www.artsy.net/artwork/mario-rossi-sudo...</td>\n",
       "    </tr>\n",
       "    <tr>\n",
       "      <th>9</th>\n",
       "      <td>f983741d-fff2-483e-88b0-e5375d69b7a7</td>\n",
       "      <td>False</td>\n",
       "      <td>2017-03-23 16:02:29.080</td>\n",
       "      <td>/guggenheim</td>\n",
       "      <td>https://www.artsy.net/article/artsy-editorial-...</td>\n",
       "    </tr>\n",
       "    <tr>\n",
       "      <th>10</th>\n",
       "      <td>68742393-30e6-4311-a34d-197cd4de9bc5</td>\n",
       "      <td>False</td>\n",
       "      <td>2017-03-24 10:18:49.374</td>\n",
       "      <td>/artist/guilherme-dable</td>\n",
       "      <td>https://www.artsy.net/artwork/paul-amundarain-...</td>\n",
       "    </tr>\n",
       "    <tr>\n",
       "      <th>11</th>\n",
       "      <td>11f73797-02f4-4b59-a834-5779060444a9</td>\n",
       "      <td>True</td>\n",
       "      <td>2017-03-12 18:50:55.980</td>\n",
       "      <td>/article/artsy-editorial-virtual-reality-is-th...</td>\n",
       "      <td>https://www.google.com/</td>\n",
       "    </tr>\n",
       "    <tr>\n",
       "      <th>12</th>\n",
       "      <td>a3d1df56-4b47-4c1f-b438-9ae60e7e6f13</td>\n",
       "      <td>True</td>\n",
       "      <td>2017-03-15 19:49:19.895</td>\n",
       "      <td>/</td>\n",
       "      <td>NaN</td>\n",
       "    </tr>\n",
       "    <tr>\n",
       "      <th>13</th>\n",
       "      <td>1ea12e7f-dfd0-44d9-9cc6-f5896448fc31</td>\n",
       "      <td>False</td>\n",
       "      <td>2017-03-18 09:18:08.666</td>\n",
       "      <td>/artwork/leonardo-drew-128l</td>\n",
       "      <td>https://www.artsy.net/artist/leonardo-drew</td>\n",
       "    </tr>\n",
       "    <tr>\n",
       "      <th>14</th>\n",
       "      <td>e21da1c8-2b00-4b8e-a8eb-d99a890f1e6d</td>\n",
       "      <td>True</td>\n",
       "      <td>2017-03-16 17:02:21.028</td>\n",
       "      <td>/artwork/andersson-slash-nordstrom-faces-lou-r...</td>\n",
       "      <td>NaN</td>\n",
       "    </tr>\n",
       "  </tbody>\n",
       "</table>\n",
       "</div>"
      ],
      "text/plain": [
       "                            anonymous_id  logged_in              received_at  \\\n",
       "0   ad31b961-d67f-497c-9def-9193d518863a      False  2017-03-12 18:23:28.241   \n",
       "1   dd14cc5c-f31a-4591-974d-1233346b1999      False  2017-03-20 20:36:32.177   \n",
       "2   9b459a76-aaa3-44cd-9f0e-af7fb9829b2c      False  2017-03-14 05:19:47.852   \n",
       "3   cb745df7-c90d-4339-9519-960081515b8c      False  2017-03-14 02:50:29.697   \n",
       "4   8b18968d-4e51-4e00-b60c-d80b1ad6a55c      False  2017-03-15 09:07:07.436   \n",
       "5   424776e9-5023-4c1a-950b-25da172990cb      False  2017-03-20 13:12:57.453   \n",
       "6   38a38aa5-00f6-46e8-8b16-0ca3d1890d2d      False  2017-03-25 01:28:37.583   \n",
       "7   2f97afde-b7fb-4dc3-aaa8-79fdb100beb3      False  2017-03-23 09:12:22.880   \n",
       "8   b45d3f53-51b3-4a53-a170-af81ceb8c05b      False  2017-03-14 15:52:14.650   \n",
       "9   f983741d-fff2-483e-88b0-e5375d69b7a7      False  2017-03-23 16:02:29.080   \n",
       "10  68742393-30e6-4311-a34d-197cd4de9bc5      False  2017-03-24 10:18:49.374   \n",
       "11  11f73797-02f4-4b59-a834-5779060444a9       True  2017-03-12 18:50:55.980   \n",
       "12  a3d1df56-4b47-4c1f-b438-9ae60e7e6f13       True  2017-03-15 19:49:19.895   \n",
       "13  1ea12e7f-dfd0-44d9-9cc6-f5896448fc31      False  2017-03-18 09:18:08.666   \n",
       "14  e21da1c8-2b00-4b8e-a8eb-d99a890f1e6d       True  2017-03-16 17:02:21.028   \n",
       "\n",
       "                                                 path  \\\n",
       "0                                /artist/anish-kapoor   \n",
       "1                 /artwork/vernon-fisher-happy-family   \n",
       "2   /article/francesca-gavin-10-new-artists-to-wat...   \n",
       "3   /article/artsy-editorial-8-female-surrealists-...   \n",
       "4   /article/artsy-editorial-why-these-7-artists-q...   \n",
       "5                               /gallery-partnerships   \n",
       "6              /artwork/shepard-fairey-marcos-diagram   \n",
       "7                               /artist/kehinde-wiley   \n",
       "8                   /artwork/mario-rossi-plaza-italia   \n",
       "9                                         /guggenheim   \n",
       "10                            /artist/guilherme-dable   \n",
       "11  /article/artsy-editorial-virtual-reality-is-th...   \n",
       "12                                                  /   \n",
       "13                        /artwork/leonardo-drew-128l   \n",
       "14  /artwork/andersson-slash-nordstrom-faces-lou-r...   \n",
       "\n",
       "                                             referrer  \n",
       "0                               http://m.facebook.com  \n",
       "1                                                 NaN  \n",
       "2                              https://www.google.ge/  \n",
       "3   https://l.facebook.com/l.php?u=https%3A%2F%2Fw...  \n",
       "4                           https://www.facebook.com/  \n",
       "5                                                 NaN  \n",
       "6                              https://www.google.ca/  \n",
       "7                          https://www.google.com.au/  \n",
       "8   https://www.artsy.net/artwork/mario-rossi-sudo...  \n",
       "9   https://www.artsy.net/article/artsy-editorial-...  \n",
       "10  https://www.artsy.net/artwork/paul-amundarain-...  \n",
       "11                            https://www.google.com/  \n",
       "12                                                NaN  \n",
       "13         https://www.artsy.net/artist/leonardo-drew  \n",
       "14                                                NaN  "
      ]
     },
     "execution_count": 19,
     "metadata": {},
     "output_type": "execute_result"
    }
   ],
   "source": [
    "df_pv.head(15)"
   ]
  },
  {
   "cell_type": "markdown",
   "metadata": {},
   "source": [
    "# Some notes about the culumns Pageviews (100.000 rows)\n",
    "\n",
    "- '**anonymous_id**' = a random user ID\n",
    "\n",
    "- '**logged_in**' = a boolean if its a loged in user or not\n",
    "\n",
    "- '**received_at**' = timestamp\n",
    "\n",
    "- '**path**' = url of the pageview\n",
    "\n",
    "- '**referrer**' = referring path where the user is coming from "
   ]
  },
  {
   "cell_type": "markdown",
   "metadata": {},
   "source": [
    "### Deeper into every column, na.check"
   ]
  },
  {
   "cell_type": "code",
   "execution_count": 6,
   "metadata": {},
   "outputs": [
    {
     "name": "stdout",
     "output_type": "stream",
     "text": [
      "visitor_id           0\n",
      "has_inquired         0\n",
      "has_an_account       0\n",
      "article_pageviews    0\n",
      "artist_pageviews     0\n",
      "artwork_pageviews    0\n",
      "dtype: int64\n",
      "----------------\n",
      "anonymous_id        0\n",
      "logged_in           0\n",
      "received_at         0\n",
      "path                0\n",
      "referrer        19965\n",
      "dtype: int64\n"
     ]
    }
   ],
   "source": [
    "# Check for missing values in df_u\n",
    "print(df_u.isna().sum())\n",
    "print(\"----------------\")\n",
    "# Check for missing values in df_pv\n",
    "print(df_pv.isna().sum())"
   ]
  },
  {
   "cell_type": "markdown",
   "metadata": {},
   "source": [
    "### --> only pageviews \"referrer\" has missing values (19.965 /100.000 = 20%)"
   ]
  },
  {
   "cell_type": "code",
   "execution_count": 27,
   "metadata": {},
   "outputs": [
    {
     "data": {
      "text/html": [
       "<div>\n",
       "<style scoped>\n",
       "    .dataframe tbody tr th:only-of-type {\n",
       "        vertical-align: middle;\n",
       "    }\n",
       "\n",
       "    .dataframe tbody tr th {\n",
       "        vertical-align: top;\n",
       "    }\n",
       "\n",
       "    .dataframe thead th {\n",
       "        text-align: right;\n",
       "    }\n",
       "</style>\n",
       "<table border=\"1\" class=\"dataframe\">\n",
       "  <thead>\n",
       "    <tr style=\"text-align: right;\">\n",
       "      <th></th>\n",
       "      <th>visitor_id</th>\n",
       "      <th>article_pageviews</th>\n",
       "      <th>artist_pageviews</th>\n",
       "      <th>artwork_pageviews</th>\n",
       "    </tr>\n",
       "  </thead>\n",
       "  <tbody>\n",
       "    <tr>\n",
       "      <th>count</th>\n",
       "      <td>2611.0000</td>\n",
       "      <td>2611.000000</td>\n",
       "      <td>2611.000000</td>\n",
       "      <td>2611.000000</td>\n",
       "    </tr>\n",
       "    <tr>\n",
       "      <th>mean</th>\n",
       "      <td>1305.0000</td>\n",
       "      <td>0.210647</td>\n",
       "      <td>0.409422</td>\n",
       "      <td>0.525469</td>\n",
       "    </tr>\n",
       "    <tr>\n",
       "      <th>std</th>\n",
       "      <td>753.8751</td>\n",
       "      <td>0.436875</td>\n",
       "      <td>0.785727</td>\n",
       "      <td>1.007454</td>\n",
       "    </tr>\n",
       "    <tr>\n",
       "      <th>min</th>\n",
       "      <td>0.0000</td>\n",
       "      <td>0.000000</td>\n",
       "      <td>0.000000</td>\n",
       "      <td>0.000000</td>\n",
       "    </tr>\n",
       "    <tr>\n",
       "      <th>25%</th>\n",
       "      <td>652.5000</td>\n",
       "      <td>0.000000</td>\n",
       "      <td>0.000000</td>\n",
       "      <td>0.000000</td>\n",
       "    </tr>\n",
       "    <tr>\n",
       "      <th>50%</th>\n",
       "      <td>1305.0000</td>\n",
       "      <td>0.000000</td>\n",
       "      <td>0.000000</td>\n",
       "      <td>0.000000</td>\n",
       "    </tr>\n",
       "    <tr>\n",
       "      <th>75%</th>\n",
       "      <td>1957.5000</td>\n",
       "      <td>0.000000</td>\n",
       "      <td>1.000000</td>\n",
       "      <td>1.000000</td>\n",
       "    </tr>\n",
       "    <tr>\n",
       "      <th>max</th>\n",
       "      <td>2610.0000</td>\n",
       "      <td>3.000000</td>\n",
       "      <td>14.000000</td>\n",
       "      <td>15.000000</td>\n",
       "    </tr>\n",
       "  </tbody>\n",
       "</table>\n",
       "</div>"
      ],
      "text/plain": [
       "       visitor_id  article_pageviews  artist_pageviews  artwork_pageviews\n",
       "count   2611.0000        2611.000000       2611.000000        2611.000000\n",
       "mean    1305.0000           0.210647          0.409422           0.525469\n",
       "std      753.8751           0.436875          0.785727           1.007454\n",
       "min        0.0000           0.000000          0.000000           0.000000\n",
       "25%      652.5000           0.000000          0.000000           0.000000\n",
       "50%     1305.0000           0.000000          0.000000           0.000000\n",
       "75%     1957.5000           0.000000          1.000000           1.000000\n",
       "max     2610.0000           3.000000         14.000000          15.000000"
      ]
     },
     "execution_count": 27,
     "metadata": {},
     "output_type": "execute_result"
    }
   ],
   "source": [
    "df_u.describe()\n"
   ]
  },
  {
   "cell_type": "code",
   "execution_count": 35,
   "metadata": {},
   "outputs": [
    {
     "data": {
      "text/plain": [
       "artwork_pageviews\n",
       "0.0     1677\n",
       "1.0      710\n",
       "2.0      130\n",
       "3.0       49\n",
       "4.0       18\n",
       "5.0       11\n",
       "6.0        8\n",
       "8.0        2\n",
       "10.0       1\n",
       "9.0        1\n",
       "15.0       1\n",
       "12.0       1\n",
       "11.0       1\n",
       "7.0        1\n",
       "Name: count, dtype: int64"
      ]
     },
     "execution_count": 35,
     "metadata": {},
     "output_type": "execute_result"
    }
   ],
   "source": [
    "df_u.artwork_pageviews.value_counts()"
   ]
  },
  {
   "cell_type": "code",
   "execution_count": 32,
   "metadata": {},
   "outputs": [
    {
     "data": {
      "image/png": "[encoded data removed]",
      "text/plain": [
       "<Figure size 640x480 with 1 Axes>"
      ]
     },
     "metadata": {},
     "output_type": "display_data"
    }
   ],
   "source": [
    "df_u.article_pageviews.value_counts().plot(kind='bar', title='Distribution of Article Pageviews per User')\n",
    "plt.xlabel('Number of Article Pageviews')\n",
    "plt.ylabel('Frequency')\n",
    "plt.show()"
   ]
  },
  {
   "cell_type": "code",
   "execution_count": 47,
   "metadata": {},
   "outputs": [
    {
     "data": {
      "image/png": "[encoded data removed]",
      "text/plain": [
       "<Figure size 640x480 with 1 Axes>"
      ]
     },
     "metadata": {},
     "output_type": "display_data"
    }
   ],
   "source": [
    "artist_pageviews_counts = df_u.artist_pageviews.value_counts().sort_index()\n",
    "artist_pageviews_counts.plot(kind='bar', title='Distribution of Artist Pageviews per User')\n",
    "plt.xlabel('Number of Artist Pageviews')\n",
    "plt.ylabel('Frequency')\n",
    "plt.show()\n"
   ]
  },
  {
   "cell_type": "code",
   "execution_count": 48,
   "metadata": {},
   "outputs": [
    {
     "data": {
      "image/png": "[encoded data removed]",
      "text/plain": [
       "<Figure size 640x480 with 1 Axes>"
      ]
     },
     "metadata": {},
     "output_type": "display_data"
    }
   ],
   "source": [
    "artwork_pageviews_counts = df_u.artwork_pageviews.value_counts().sort_index()\n",
    "artwork_pageviews_counts.plot(kind='bar', title='Distribution of Artwork Pageviews per User')\n",
    "plt.xlabel('Number of Artwork Pageviews')\n",
    "plt.ylabel('Frequency')\n",
    "plt.show()\n",
    "\n"
   ]
  },
  {
   "cell_type": "code",
   "execution_count": 22,
   "metadata": {},
   "outputs": [
    {
     "data": {
      "text/plain": [
       "anonymous_id\n",
       "b55424f5-53eb-44b5-b2d4-f27d077a3086    352\n",
       "7fa98975-cd45-4741-b106-5f938e795d90    100\n",
       "10078c13-6097-4adc-9395-a4bc42b96a1c     62\n",
       "91e878a3-d2cd-4ebf-b497-a6ccc406862f     57\n",
       "f2d4f27d-077a-4086-8cce-5789b10fbfda     50\n",
       "                                       ... \n",
       "ee6435e6-0039-4553-93a5-89df4919b526     13\n",
       "1769532e-e1b9-4d69-b216-eb477bb4f5b0     13\n",
       "e26b0c1e-a2ca-4be5-95a4-0630954e72b8     13\n",
       "bf5af9f8-fef1-452f-b521-b2dd98d266ee     13\n",
       "44c6e9da-33ec-4a24-85cd-7471a2da2e05     13\n",
       "Name: count, Length: 100, dtype: int64"
      ]
     },
     "execution_count": 22,
     "metadata": {},
     "output_type": "execute_result"
    }
   ],
   "source": [
    "df_pv.anonymous_id.value_counts().head(100)"
   ]
  },
  {
   "cell_type": "code",
   "execution_count": 26,
   "metadata": {},
   "outputs": [
    {
     "data": {
      "image/png": "[encoded data removed]",
      "text/plain": [
       "<Figure size 640x480 with 1 Axes>"
      ]
     },
     "metadata": {},
     "output_type": "display_data"
    }
   ],
   "source": [
    "value_counts_sorted = df_pv['anonymous_id'].value_counts().sort_values(ascending=False)\n",
    "value_counts_sorted.head(100).plot(kind='hist', bins=100, title='Histogram of Anonymous ID Value Counts')\n",
    "plt.xlabel('Value Counts')\n",
    "plt.ylabel('Frequency')\n",
    "plt.show()"
   ]
  },
  {
   "cell_type": "markdown",
   "metadata": {},
   "source": [
    "#### There are outliers: \n",
    "a few users viewd 50+ pages , one person 350, but most user-Ids have less than 50 entries in the dataset"
   ]
  },
  {
   "cell_type": "code",
   "execution_count": 50,
   "metadata": {},
   "outputs": [
    {
     "name": "stdout",
     "output_type": "stream",
     "text": [
      "Empty DataFrame\n",
      "Columns: [visitor_id, has_inquired, has_an_account, article_pageviews, artist_pageviews, artwork_pageviews]\n",
      "Index: []\n",
      "-----------\n",
      "Empty DataFrame\n",
      "Columns: [anonymous_id, logged_in, received_at, path, referrer]\n",
      "Index: []\n"
     ]
    }
   ],
   "source": [
    "# Check for duplicated rows in df_u\n",
    "duplicated_rows = df_u[df_u.duplicated()]\n",
    "print(duplicated_rows)\n",
    "print('-----------')\n",
    "\n",
    "# Check for duplicated rows in df_u\n",
    "duplicated_rows = df_pv[df_pv.duplicated()]\n",
    "print(duplicated_rows)\n"
   ]
  },
  {
   "cell_type": "code",
   "execution_count": null,
   "metadata": {},
   "outputs": [],
   "source": [
    "# EXAMPLE Table of all data and their frequency\n",
    "df_u"
   ]
  },
  {
   "cell_type": "code",
   "execution_count": null,
   "metadata": {},
   "outputs": [],
   "source": [
    "# EXAMPLE Unique values\n",
    "len(df['yr_renovated'].unique())"
   ]
  },
  {
   "cell_type": "code",
   "execution_count": null,
   "metadata": {},
   "outputs": [],
   "source": [
    "# EXAMPLE: Count NA values\n",
    "df['yr_renovated'].isna().sum()"
   ]
  },
  {
   "cell_type": "code",
   "execution_count": null,
   "metadata": {},
   "outputs": [],
   "source": [
    "# EXAMPLE Histogram\n",
    "plt.hist(df['sqft_living15'], bins=200)\n",
    "plt.show()"
   ]
  },
  {
   "cell_type": "code",
   "execution_count": null,
   "metadata": {},
   "outputs": [],
   "source": [
    "# EXAMPLE Minimum\n",
    "df['floors'].min(skipna=True)"
   ]
  },
  {
   "cell_type": "code",
   "execution_count": null,
   "metadata": {},
   "outputs": [],
   "source": [
    "# EXAMPLE Maximum\n",
    "df['floors'].max(skipna=True)"
   ]
  },
  {
   "cell_type": "code",
   "execution_count": null,
   "metadata": {},
   "outputs": [],
   "source": [
    "# Find out the type for every column\n",
    "df.info()"
   ]
  },
  {
   "cell_type": "markdown",
   "metadata": {},
   "source": [
    "### Data cleaning \n",
    "Information gathered from aboves lines resulted in some needs for cleaning."
   ]
  },
  {
   "cell_type": "code",
   "execution_count": 15,
   "metadata": {},
   "outputs": [],
   "source": [
    "df.drop(['id.1', 'house_id'], axis=1, inplace=True)\n"
   ]
  },
  {
   "cell_type": "code",
   "execution_count": null,
   "metadata": {},
   "outputs": [],
   "source": [
    "# fill NAs\n",
    "df.waterfront.fillna(0, inplace=True)\n",
    "df.view.fillna(-1, inplace=True)\n",
    "df.sqft_basement.fillna(-1, inplace=True)\n",
    "df.yr_renovated.fillna(0, inplace=True)"
   ]
  },
  {
   "cell_type": "code",
   "execution_count": 17,
   "metadata": {},
   "outputs": [],
   "source": [
    "df['yr_renovated'] = df['yr_renovated']/10"
   ]
  },
  {
   "cell_type": "code",
   "execution_count": null,
   "metadata": {},
   "outputs": [],
   "source": [
    "df['yr_renovated'].replace(0, np.nan, inplace=True)\n",
    "# Konvertiere in datetime und lasse NaN unangetastet\n",
    "df['yr_renovated'] = pd.to_datetime(df['yr_renovated'], format='%Y', errors='coerce')"
   ]
  },
  {
   "cell_type": "code",
   "execution_count": 19,
   "metadata": {},
   "outputs": [],
   "source": [
    "df['date'] = pd.to_datetime(df['date'], format='%Y-%m-%d', errors='coerce')"
   ]
  },
  {
   "cell_type": "code",
   "execution_count": 20,
   "metadata": {},
   "outputs": [],
   "source": [
    "df['yr_renovated'] = pd.to_datetime(df['yr_renovated'], format='%Y', errors='coerce')"
   ]
  },
  {
   "cell_type": "code",
   "execution_count": 21,
   "metadata": {},
   "outputs": [],
   "source": [
    "df[['bedrooms', 'sqft_living', 'sqft_lot', 'view', 'grade', 'sqft_above', 'sqft_basement']] = df[['bedrooms', 'sqft_living', 'sqft_lot', 'view', 'grade', 'sqft_above', 'sqft_basement']].astype('int64')"
   ]
  },
  {
   "cell_type": "code",
   "execution_count": 22,
   "metadata": {},
   "outputs": [],
   "source": [
    "df['waterfront'] = df['waterfront'].map({0.0: 'No_Waterfront', 1.0: 'Waterfront'})"
   ]
  },
  {
   "cell_type": "code",
   "execution_count": 23,
   "metadata": {},
   "outputs": [],
   "source": [
    "df[['zipcode', 'condition']] = df[['zipcode', 'condition']].astype('object')"
   ]
  },
  {
   "cell_type": "code",
   "execution_count": null,
   "metadata": {},
   "outputs": [],
   "source": [
    "df.value_counts('waterfront')"
   ]
  },
  {
   "cell_type": "markdown",
   "metadata": {},
   "source": [
    "# Hypothesis Testing\n",
    "\n",
    "- H0: waterfront houses are more expensive \n",
    "- H1: Waterfront houses are viewed more often on average than non-waterfront houses.\n",
    "- H2: The square footage of land is smaller for waterfront houses in Kings County.\n",
    "- H3: There is a positive correlation between the condition of a house and the King County Building Grades."
   ]
  },
  {
   "cell_type": "markdown",
   "metadata": {},
   "source": [
    "# H0 plot"
   ]
  },
  {
   "cell_type": "code",
   "execution_count": null,
   "metadata": {},
   "outputs": [],
   "source": [
    "sns.violinplot(x=df['waterfront'], y=df['price'])"
   ]
  },
  {
   "cell_type": "code",
   "execution_count": null,
   "metadata": {},
   "outputs": [],
   "source": [
    "sns.kdeplot(data=df, x=\"price\", hue=\"waterfront\", multiple=\"stack\")\n",
    "#there are close to no houses on the waterfront"
   ]
  },
  {
   "cell_type": "markdown",
   "metadata": {},
   "source": [
    "# H2 Plot\n",
    "Waterfront houses are viewed more often on average than non-waterfront houses."
   ]
  },
  {
   "cell_type": "code",
   "execution_count": null,
   "metadata": {},
   "outputs": [],
   "source": [
    "sns.violinplot(x=df['waterfront'], y=df['view'])\n",
    "df['view'].value_counts()"
   ]
  },
  {
   "cell_type": "markdown",
   "metadata": {},
   "source": [
    "# H2 Plot\n",
    "The square footage of land is smaller for waterfront houses in Kings County\n",
    "---> Wrong"
   ]
  },
  {
   "cell_type": "code",
   "execution_count": null,
   "metadata": {},
   "outputs": [],
   "source": [
    "df_filtered = df[df['sqft_lot'] < 30000]\n",
    "\n",
    "sns.violinplot(x=df_filtered['waterfront'], y=df_filtered['sqft_lot'])"
   ]
  },
  {
   "cell_type": "markdown",
   "metadata": {},
   "source": [
    "# H3 - Plot: \n",
    "There is a positive correlation between the condition of a house and the King County Building Grades. --> wrong"
   ]
  },
  {
   "cell_type": "code",
   "execution_count": 232,
   "metadata": {},
   "outputs": [],
   "source": [
    "df_filtered = df"
   ]
  },
  {
   "cell_type": "code",
   "execution_count": null,
   "metadata": {},
   "outputs": [],
   "source": [
    "df_filtered[['grade', 'condition']] =  df_filtered[['grade', 'condition']].astype('float64')\n",
    "\n",
    "noise_mean = 0\n",
    "noise_std = 0.1\n",
    "noise_cond = np.random.normal(loc=noise_mean, scale=noise_std, size=df.shape[0])\n",
    "\n",
    "noise_mean = 0\n",
    "noise_std = 0.2\n",
    "noise_grade = np.random.normal(loc=noise_mean, scale=noise_std, size=df.shape[0])\n",
    "\n",
    "df_filtered['condition_with_noise'] = df_filtered['condition'] + noise_cond\n",
    "df_filtered['grade_with_noise'] = df_filtered['grade'] + noise_grade\n",
    "\n",
    "\n",
    "\n",
    "sns.lmplot(\n",
    "    x=\"condition_with_noise\",\n",
    "    y=\"grade_with_noise\",\n",
    "    data=df_filtered,\n",
    "    hue=\"waterfront\",\n",
    ")\n",
    "plt.show()"
   ]
  },
  {
   "cell_type": "markdown",
   "metadata": {},
   "source": [
    "# Client Erin Robinson\n",
    "## Unlimited Budget, 4+ bathrooms or smaller house nearby, big lot (tennis court & pool), golf, historic, no waterfront"
   ]
  },
  {
   "cell_type": "markdown",
   "metadata": {},
   "source": [
    "# finding golf \n",
    "\n",
    "from https://gismaps.kingcounty.gov/iMap/\n",
    "df['zipcode'].value_counts() \n",
    "\n",
    "### Interbay Golf Center\n",
    "2501 15th Ave W, Seattle, WA 98119, Vereinigte Staaten\n",
    "47.64364, -122.37834\n",
    " \n",
    "\n",
    "### Vashon Island Golf & Country Club\n",
    "24615 75th Ave SW, Vashon, WA 98070, Vereinigte Staaten\n",
    "47.38309, -122.42884\n",
    "auf einer Insel, mit pool \n",
    "kinder angebote\n",
    "\n",
    "\n",
    "### Broadmoor Golf Club\n",
    "2340 Broadmoor Dr E, Seattle, WA 98112, Vereinigte Staaten\n",
    "47.64049770129618, -122.28964444365356\n",
    "japanischer garten \n",
    "\n",
    "\n",
    "### Riverbend Golf Complex\n",
    "2019 W Meeker St, Kent, WA 98032, Vereinigte Staaten\n",
    "47.380891694211876, -122.2628972397312\n"
   ]
  },
  {
   "cell_type": "markdown",
   "metadata": {},
   "source": [
    "in der Postleitzahl \n",
    "98119\n",
    "98070\n",
    "98112\n",
    "98032\n",
    "jeweils die 15 nearest neigbors lot\n"
   ]
  },
  {
   "cell_type": "code",
   "execution_count": 252,
   "metadata": {},
   "outputs": [],
   "source": [
    "df_filtered = df\n",
    "desired_zipcodes = [98119, 98070, 98112, 98032]\n",
    "df_filtered = df[df['zipcode'].isin(desired_zipcodes)]\n"
   ]
  },
  {
   "cell_type": "code",
   "execution_count": null,
   "metadata": {},
   "outputs": [],
   "source": [
    "df_filtered.head(15)\n",
    "df_filtered = df_filtered[df_filtered['bathrooms']>3.5]\n",
    "\n",
    "sns.displot( data=df_filtered[\"bathrooms\"], kde=True )"
   ]
  },
  {
   "cell_type": "code",
   "execution_count": 274,
   "metadata": {},
   "outputs": [],
   "source": [
    "df_filtered_sorted_multiple = df_filtered.sort_values(by=['sqft_lot', 'price'],ascending=False)\n"
   ]
  },
  {
   "cell_type": "code",
   "execution_count": null,
   "metadata": {},
   "outputs": [],
   "source": [
    "df_filtered_sorted_multiple.head(37)\n",
    "columns_of_interest = ['bathrooms','sqft_lot', 'sqft_living', 'grade', 'yr_built','yr_renovated','sqft_lot15', 'price', 'lat','long']\n",
    "df_filtered_selected_columns = df_filtered_sorted_multiple[columns_of_interest]\n",
    "df_filtered_selected_columns"
   ]
  },
  {
   "cell_type": "markdown",
   "metadata": {},
   "source": [
    "# 3 Recommandations for this client"
   ]
  },
  {
   "cell_type": "code",
   "execution_count": null,
   "metadata": {},
   "outputs": [],
   "source": [
    "# 18314\t4.75\t24085\t4575\t10.0\t1926\tNaT\t9687.0\t2920000.0\t47.6263\t-122.284\n",
    "# 10543\t4.25\t308080\t3300\t9.0\t1976\tNaT\t90604.0\t729000.0\t47.3979\t-122.416\n",
    "# 14172\t4.00\t30120\t4200\t11.0\t1933\tNaT\t12200.0\t2230000.0\t47.6379\t-122.311"
   ]
  }
 ],
 "metadata": {
  "kernelspec": {
   "display_name": ".venv",
   "language": "python",
   "name": "python3"
  },
  "language_info": {
   "codemirror_mode": {
    "name": "ipython",
    "version": 3
   },
   "file_extension": ".py",
   "mimetype": "text/x-python",
   "name": "python",
   "nbconvert_exporter": "python",
   "pygments_lexer": "ipython3",
   "version": "3.11.3"
  }
 },
 "nbformat": 4,
 "nbformat_minor": 2
}
